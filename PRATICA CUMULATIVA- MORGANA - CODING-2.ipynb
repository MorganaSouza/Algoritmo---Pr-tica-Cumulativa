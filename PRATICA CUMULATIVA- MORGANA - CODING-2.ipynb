{
 "cells": [
  {
   "cell_type": "code",
   "execution_count": 1,
   "metadata": {},
   "outputs": [
    {
     "name": "stdout",
     "output_type": "stream",
     "text": [
      "A letra A é uma vogal.\n"
     ]
    }
   ],
   "source": [
    "#1) Faça um programa que identifique se a letra divulgada é vogal ou consoante\n",
    "# Solicita ao usuário que insira uma letra\n",
    "letra = input(\"Insira uma letra: \")\n",
    "\n",
    "# Verifica se o usuário inseriu apenas uma letra\n",
    "if letra >= 'A' and letra <= 'Z' or letra >= 'a' and letra <= 'z':\n",
    "    # Lista de vogais\n",
    "    vogais = ['A', 'E', 'I', 'O', 'U', 'a', 'e', 'i', 'o', 'u']\n",
    "\n",
    "    # Verifica se a letra é uma vogal\n",
    "    if letra in vogais:\n",
    "        print(\"A letra\", letra, \"é uma vogal.\")\n",
    "    else:\n",
    "        print(\"A letra\", letra, \"é uma consoante.\")\n",
    "else:\n",
    "    print(\"Por favor, insira apenas uma letra.\")\n"
   ]
  },
  {
   "cell_type": "code",
   "execution_count": 2,
   "metadata": {},
   "outputs": [
    {
     "name": "stdout",
     "output_type": "stream",
     "text": [
      "Você deve comprar o celular.\n"
     ]
    }
   ],
   "source": [
    "#2) pergunte o preço de tres produtos\n",
    " #e informe qual produto você deve comprar,\n",
    "#sabendo que a decisão é sempre o mais barato\n",
    "\n",
    "# Solicita ao usuário que insira o preço dos três produtos\n",
    "preco_carro = float(input(\"Insira o preço do carro: \"))\n",
    "preco_celular = float(input(\"Insira o preço do celular: \"))\n",
    "preco_notebook = float(input(\"Insira o preço do notebook: \"))\n",
    "\n",
    "# Verifica qual produto tem o preço mais baixo\n",
    "if preco_carro < preco_celular and preco_carro < preco_notebook:\n",
    "    print(\"Você deve comprar o carro.\")\n",
    "elif preco_celular < preco_carro and preco_celular < preco_notebook:\n",
    "    print(\"Você deve comprar o celular.\")\n",
    "else:\n",
    "    print(\"Você deve comprar o notebook.\")\n"
   ]
  },
  {
   "cell_type": "code",
   "execution_count": 3,
   "metadata": {},
   "outputs": [
    {
     "name": "stdout",
     "output_type": "stream",
     "text": [
      "Os números em ordem decrescente são: 6.0 4.0 3.0\n"
     ]
    }
   ],
   "source": [
    "#3) Programa de Três número em forma decrescente\n",
    "\n",
    "# Solicita ao usuário que insira os três números\n",
    "num1 = float(input(\"Insira o primeiro número: \"))\n",
    "num2 = float(input(\"Insira o segundo número: \"))\n",
    "num3 = float(input(\"Insira o terceiro número: \"))\n",
    "\n",
    "# Verifica e mostra os números em ordem decrescente\n",
    "if num1 >= num2 and num1 >= num3:\n",
    "    if num2 >= num3:\n",
    "        print(\"Os números em ordem decrescente são:\", num1, num2, num3)\n",
    "    else:\n",
    "        print(\"Os números em ordem decrescente são:\", num1, num3, num2)\n",
    "elif num2 >= num1 and num2 >= num3:\n",
    "    if num1 >= num3:\n",
    "        print(\"Os números em ordem decrescente são:\", num2, num1, num3)\n",
    "    else:\n",
    "        print(\"Os números em ordem decrescente são:\", num2, num3, num1)\n",
    "else:\n",
    "    if num1 >= num2:\n",
    "        print(\"Os números em ordem decrescente são:\", num3, num1, num2)\n",
    "    else:\n",
    "        print(\"Os números em ordem decrescente são:\", num3, num2, num1)\n"
   ]
  },
  {
   "cell_type": "code",
   "execution_count": 4,
   "metadata": {},
   "outputs": [
    {
     "name": "stdout",
     "output_type": "stream",
     "text": [
      "Bom dia!\n"
     ]
    }
   ],
   "source": [
    "#4) FAÇA UM PROGRAMA QUE PERGUNTE EM QUE TURNO VOCÊ ESTUDA.\n",
    "#PEÇA PRA DIGITAR, MATURINO, VESPERTINO, NOTURNO.\n",
    "#IMPRIMA A MENSAGEM BOM DIA, BOA TERDE OU BOA NOITE OU VALOR INVÁLIDO\n",
    "\n",
    "# Solicita ao usuário que informe o turno de estudo\n",
    "turno = input(\"Em que turno você estuda? (matutino/vespertino/noturno): \")\n",
    "\n",
    "# Verifica o turno e imprime a mensagem correspondente\n",
    "if turno == \"matutino\":\n",
    "    print(\"Bom dia!\")\n",
    "elif turno == \"vespertino\":\n",
    "    print(\"Boa tarde!\")\n",
    "elif turno == \"noturno\":\n",
    "    print(\"Boa noite!\")\n",
    "else:\n",
    "    print(\"Valor inválido.\")\n"
   ]
  },
  {
   "cell_type": "code",
   "execution_count": 5,
   "metadata": {},
   "outputs": [
    {
     "name": "stdout",
     "output_type": "stream",
     "text": [
      "Terça-feira\n"
     ]
    }
   ],
   "source": [
    "#5)faça um programa em python que leia o número e exiba o dia correspondente da semana\n",
    "# (1- domingo, 2- segunda, etc) se for \n",
    "#digitado outro, deve retornar uma mensagem informando valor inválido, \n",
    "\n",
    "# Solicita ao usuário que insira o número correspondente ao dia da semana\n",
    "numero_dia = int(input(\"Digite o número correspondente ao dia da semana (1- domingo, 2- segunda, etc): \"))\n",
    "\n",
    "# Verifica o número e imprime o dia correspondente\n",
    "if numero_dia == 1:\n",
    "    print(\"Domingo\")\n",
    "elif numero_dia == 2:\n",
    "    print(\"Segunda-feira\")\n",
    "elif numero_dia == 3:\n",
    "    print(\"Terça-feira\")\n",
    "elif numero_dia == 4:\n",
    "    print(\"Quarta-feira\")\n",
    "elif numero_dia == 5:\n",
    "    print(\"Quinta-feira\")\n",
    "elif numero_dia == 6:\n",
    "    print(\"Sexta-feira\")\n",
    "elif numero_dia == 7:\n",
    "    print(\"Sábado\")\n",
    "else:\n",
    "    print(\"Valor inválido.\")\n"
   ]
  },
  {
   "cell_type": "code",
   "execution_count": 6,
   "metadata": {},
   "outputs": [
    {
     "name": "stdout",
     "output_type": "stream",
     "text": [
      "Nota 1: 6.0\n",
      "Nota 2: 8.0\n",
      "Média: 7.0\n",
      "Conceito: C\n",
      "Situação: Aprovado\n"
     ]
    }
   ],
   "source": [
    "#5)faça um programa em python que lê as duas notas parciais\n",
    " #obtidas por um aluno numa disciplina ao longo do semestre, \n",
    "#e calcule a sua média. atribuição dos conceitos obedece as regras: \n",
    "#media de aproveitamento: entre 9.0 e 10.0 - conceito A. entre 7.5 e 10.0 - \n",
    "#conceito b.  entre 6.0 e 7.5 -conceito C. entre 4.0 e 6.0 - conceito D. entre 4.0 e zero -\n",
    "#conceito E.  o programa deve mostrar na \n",
    "#tela as notas, a média,  o conceito correspondente a imagem ' aprovado' se for A, B, C ou 'reprovado\" se for D ou E\n",
    "\n",
    "# Solicita ao usuário que insira as duas notas parciais\n",
    "nota1 = float(input(\"Digite a primeira nota parcial: \"))\n",
    "nota2 = float(input(\"Digite a segunda nota parcial: \"))\n",
    "\n",
    "# Calcula a média das notas\n",
    "media = (nota1 + nota2) / 2\n",
    "\n",
    "# Determina o conceito com base na média\n",
    "if media >= 9.0:\n",
    "    conceito = \"A\"\n",
    "elif media >= 7.5:\n",
    "    conceito = \"B\"\n",
    "elif media >= 6.0:\n",
    "    conceito = \"C\"\n",
    "elif media >= 4.0:\n",
    "    conceito = \"D\"\n",
    "else:\n",
    "    conceito = \"E\"\n",
    "\n",
    "# Imprime as notas, média e conceito correspondente\n",
    "print(\"Nota 1:\", nota1)\n",
    "print(\"Nota 2:\", nota2)\n",
    "print(\"Média:\", media)\n",
    "print(\"Conceito:\", conceito)\n",
    "\n",
    "# Verifica se o aluno foi aprovado ou reprovado\n",
    "if conceito in ['A', 'B', 'C']:\n",
    "    print(\"Situação: Aprovado\")\n",
    "else:\n",
    "    print(\"Situação: Reprovado\")\n"
   ]
  },
  {
   "cell_type": "code",
   "execution_count": 7,
   "metadata": {},
   "outputs": [
    {
     "name": "stdout",
     "output_type": "stream",
     "text": [
      "O ano 2012 é bissexto.\n"
     ]
    }
   ],
   "source": [
    "# 6)faça um programa em python \n",
    "#que peça o numero correspondente a \n",
    "#um determinado ano e em seguida informe se este ano é ou não bissexto\n",
    "\n",
    "\n",
    "# Solicita ao usuário que insira o número correspondente ao ano\n",
    "ano = int(input(\"Digite um ano para verificar se é bissexto: \"))\n",
    "\n",
    "# Verifica se o ano é bissexto e imprime a mensagem correspondente\n",
    "if ano % 400 == 0:\n",
    "    print(\"O ano\", ano, \"é bissexto.\")\n",
    "elif ano % 4 == 0 and ano % 100 != 0:\n",
    "    print(\"O ano\", ano, \"é bissexto.\")\n",
    "else:\n",
    "    print(\"O ano\", ano, \"não é bissexto.\")\n"
   ]
  },
  {
   "cell_type": "code",
   "execution_count": 8,
   "metadata": {},
   "outputs": [
    {
     "name": "stdout",
     "output_type": "stream",
     "text": [
      "O resultado da operação soma é: 10.0\n",
      "O resultado é par, positivo, inteiro.\n"
     ]
    }
   ],
   "source": [
    "#7) faça um programa em python que leia dois numeros e em seguida pergunte\n",
    " #ao usuário qual operação básica( soma, subtração, multiplicação, divisão, exponenciação)\n",
    "#ele deseja realizar. o resultado da operação \n",
    "#deve ser acompanhado de uma frase que diga que o número é par ou ímpar; positivo ou negativo; inteiro ou decimal\n",
    "\n",
    "\n",
    "# Solicita ao usuário que insira os dois números\n",
    "num1 = float(input(\"Digite o primeiro número: \"))\n",
    "num2 = float(input(\"Digite o segundo número: \"))\n",
    "\n",
    "# Pergunta ao usuário qual operação deseja realizar\n",
    "operacao = input(\"Qual operação básica você deseja realizar? (soma, subtração, multiplicação, divisão, exponenciação): \")\n",
    "\n",
    "# Realiza a operação escolhida e imprime o resultado\n",
    "if operacao == \"soma\":\n",
    "    resultado = num1 + num2\n",
    "elif operacao == \"subtração\":\n",
    "    resultado = num1 - num2\n",
    "elif operacao == \"multiplicação\":\n",
    "    resultado = num1 * num2\n",
    "elif operacao == \"divisão\":\n",
    "    if num2 != 0:\n",
    "        resultado = num1 / num2\n",
    "    else:\n",
    "        resultado = \"Não é possível dividir por zero.\"\n",
    "elif operacao == \"exponenciação\":\n",
    "    resultado = num1 ** num2\n",
    "else:\n",
    "    resultado = \"Operação inválida.\"\n",
    "\n",
    "# Imprime o resultado da operação\n",
    "print(\"O resultado da operação\", operacao, \"é:\", resultado)\n",
    "\n",
    "# Verifica se o resultado é par ou ímpar\n",
    "if resultado % 2 == 0:\n",
    "    tipo_numero = \"par\"\n",
    "else:\n",
    "    tipo_numero = \"ímpar\"\n",
    "\n",
    "# Verifica se o resultado é positivo ou negativo\n",
    "if resultado > 0:\n",
    "    sinal_numero = \"positivo\"\n",
    "elif resultado < 0:\n",
    "    sinal_numero = \"negativo\"\n",
    "else:\n",
    "    sinal_numero = \"neutro\"\n",
    "\n",
    "# Verifica se o resultado é inteiro ou decimal\n",
    "if resultado.is_integer():\n",
    "    tipo_valor = \"inteiro\"\n",
    "else:\n",
    "    tipo_valor = \"decimal\"\n",
    "\n",
    "# Imprime informações sobre o resultado\n",
    "print(\"O resultado é\", tipo_numero + \",\", sinal_numero + \",\", tipo_valor + \".\")\n"
   ]
  },
  {
   "cell_type": "code",
   "execution_count": 9,
   "metadata": {},
   "outputs": [
    {
     "name": "stdout",
     "output_type": "stream",
     "text": [
      "Sua idade é: 21\n"
     ]
    }
   ],
   "source": [
    "#8)faça um programa em python que peça a idade e exiba a informação, \n",
    "#os valores aceitáveis deve estar entre 0 e 150, valores fora desse limite não poderão ser aceitos\n",
    "\n",
    "# Solicita ao usuário que insira a idade\n",
    "idade = int(input(\"Digite sua idade: \"))\n",
    "\n",
    "# Verifica se a idade está dentro do intervalo aceitável\n",
    "if idade >= 0 and idade <= 150:\n",
    "    print(\"Sua idade é:\", idade)\n",
    "else:\n",
    "    print(\"Valor inválido. A idade deve estar entre 0 e 150 anos.\")\n"
   ]
  },
  {
   "cell_type": "code",
   "execution_count": 10,
   "metadata": {},
   "outputs": [
    {
     "name": "stdout",
     "output_type": "stream",
     "text": [
      "A soma dos números é: 15.0\n",
      "A média dos números é: 3.0\n"
     ]
    }
   ],
   "source": [
    "#9)faça um programa em python que  utilize estrutura de repetição e \n",
    "#listas(com ou sem .append), um programa que leia 5 números e informe a soma e a média dos números\n",
    "\n",
    "# Inicializa uma lista vazia para armazenar os números\n",
    "numeros = []\n",
    "\n",
    "# Pede ao usuário para inserir 5 números e armazena-os na lista\n",
    "for i in range(5):\n",
    "    numero = float(input(\"Digite o {}º número: \".format(i+1)))\n",
    "    numeros.append(numero)\n",
    "\n",
    "# Calcula a soma dos números\n",
    "soma = 0\n",
    "for num in numeros:\n",
    "    soma += num\n",
    "\n",
    "# Calcula a média dos números\n",
    "media = soma / 5\n",
    "\n",
    "# Imprime a soma e a média\n",
    "print(\"A soma dos números é:\", soma)\n",
    "print(\"A média dos números é:\", media)\n"
   ]
  },
  {
   "cell_type": "code",
   "execution_count": 11,
   "metadata": {},
   "outputs": [
    {
     "name": "stdout",
     "output_type": "stream",
     "text": [
      "O número 4 não é primo.\n"
     ]
    }
   ],
   "source": [
    "#10) faça um programa em python que  peça um\n",
    "# número inteiro e determine se ele é ou não primo. \n",
    "#um número primo é aquele que é divisível por 1 ou por ele mesmo\n",
    "\n",
    "# Solicita ao usuário que insira um número inteiro\n",
    "numero = int(input(\"Digite um número inteiro: \"))\n",
    "\n",
    "# Verifica se o número é primo\n",
    "if numero > 1:\n",
    "    # Inicializa uma variável para contar os divisores do número\n",
    "    count = 0\n",
    "    \n",
    "    # Percorre os números de 1 até o número inserido pelo usuário\n",
    "    for i in range(1, numero + 1):\n",
    "        if numero % i == 0:\n",
    "            count += 1\n",
    "    \n",
    "    # Se o número tiver apenas dois divisores (1 e ele mesmo), é primo\n",
    "    if count == 2:\n",
    "        print(\"O número\", numero, \"é primo.\")\n",
    "    else:\n",
    "        print(\"O número\", numero, \"não é primo.\")\n",
    "else:\n",
    "    print(\"O número\", numero, \"não é primo.\")\n"
   ]
  },
  {
   "cell_type": "code",
   "execution_count": 12,
   "metadata": {},
   "outputs": [
    {
     "name": "stdout",
     "output_type": "stream",
     "text": [
      "Menor temperatura: 12.0\n",
      "Maior temperatura: 30.0\n",
      "Média das temperaturas: 21.6\n"
     ]
    }
   ],
   "source": [
    "#11)faça um programa em python em que o Departamento estadual de metereologia \n",
    "#lhe contratou para desenvolver um programa que leia \n",
    "#5 temperaturas, e informe ao final a menor e a maior \n",
    "#temperaturas informadas, bem como as médias das temperaturas\n",
    "\n",
    "# Inicializando as variáveis\n",
    "temperaturas = []\n",
    "soma_temperaturas = 0\n",
    "\n",
    "# Loop para obter as temperaturas\n",
    "for i in range(5):\n",
    "    temperatura = float(input(f\"Digite a temperatura {i+1}: \"))\n",
    "    temperaturas.append(temperatura)\n",
    "    soma_temperaturas += temperatura\n",
    "\n",
    "# Encontrando a menor e maior temperatura\n",
    "menor_temperatura = temperaturas[0]\n",
    "maior_temperatura = temperaturas[0]\n",
    "\n",
    "for temperatura in temperaturas:\n",
    "    if temperatura < menor_temperatura:\n",
    "        menor_temperatura = temperatura\n",
    "    if temperatura > maior_temperatura:\n",
    "        maior_temperatura = temperatura\n",
    "\n",
    "# Calculando a média das temperaturas\n",
    "media_temperaturas = soma_temperaturas / 5\n",
    "\n",
    "# Imprimindo os resultados\n",
    "print(\"Menor temperatura:\", menor_temperatura)\n",
    "print(\"Maior temperatura:\", maior_temperatura)\n",
    "print(\"Média das temperaturas:\", media_temperaturas)\n"
   ]
  },
  {
   "cell_type": "code",
   "execution_count": 13,
   "metadata": {},
   "outputs": [
    {
     "name": "stdout",
     "output_type": "stream",
     "text": [
      "Saldo médio do cliente: 224.0\n",
      "Valor do crédito: 44.800000000000004\n"
     ]
    }
   ],
   "source": [
    "#12) faça um programa em python em que um banco concederá um crédito especial aos seus clientes , \n",
    "#variável com o saldo médio nos ultimos anos. faça um algoritmo que leia o saldo médio de um cliente e \n",
    "#calcule o valor do credito de acordo com a tabela abaixo. mostre uma mensagem informando o saldo médio\n",
    "#e valor do crédito. tabela: Saldo médio: de 0 a 200 - percentual: \n",
    "#nenhum crédito. de 201 a 400 - percentual: 20% do valor do saldo médio.\n",
    "#de 401 a 600% - percentual: 30% do valor do saldo médio.\n",
    "#acima de 601 - percentual: 40% do valor do saldo médio. \n",
    "\n",
    "\n",
    "# Solicitando o saldo médio do cliente\n",
    "saldo_medio = float(input(\"Digite o saldo médio do cliente: \"))\n",
    "\n",
    "# Calculando o valor do crédito de acordo com a tabela\n",
    "if saldo_medio <= 200:\n",
    "    percentual = 0\n",
    "elif saldo_medio <= 400:\n",
    "    percentual = 0.2\n",
    "elif saldo_medio <= 600:\n",
    "    percentual = 0.3\n",
    "else:\n",
    "    percentual = 0.4\n",
    "\n",
    "valor_credito = saldo_medio * percentual\n",
    "\n",
    "# Imprimindo o saldo médio e o valor do crédito\n",
    "print(\"Saldo médio do cliente:\", saldo_medio)\n",
    "print(\"Valor do crédito:\", valor_credito)\n"
   ]
  },
  {
   "cell_type": "code",
   "execution_count": 14,
   "metadata": {},
   "outputs": [
    {
     "name": "stdout",
     "output_type": "stream",
     "text": [
      "Digite o seu nome:\n",
      "Digite a sua idade:\n",
      "Prezado(a) Morgana, você tem 21 anos e irá se aposentar no ano de 2068\n"
     ]
    }
   ],
   "source": [
    "#13) aça um programa em python em que você foi contratado pelo INSS (INSTITUTO NACIONAL DO SEGURO SOCIAL) do brasil. \n",
    "#crie um programa que diga  a pessoa o ano em que ela vai se aposentar . \n",
    "#Você deve perguntar a pessoa, o nome, a idade, e criar uma mensagem dizendo em qual ano ela irá se aposentar. \n",
    "#Considere que todas as pessoas poderão de aposentar aos 65 anos de idade,\n",
    "\n",
    "# Solicitando o nome e a idade da pessoa\n",
    "print(\"Digite o seu nome:\")\n",
    "nome = input()\n",
    "\n",
    "print(\"Digite a sua idade:\")\n",
    "idade = int(input())\n",
    "\n",
    "# Calculando o ano de aposentadoria\n",
    "ano_atual = 2024\n",
    "idade_aposentadoria = 65\n",
    "ano_aposentadoria = ano_atual + (idade_aposentadoria - idade)\n",
    "\n",
    "# Imprimindo a mensagem com o nome, idade e ano de aposentadoria\n",
    "print(\"Prezado(a) \" + nome + \", você tem \" + str(idade) + \" anos e irá se aposentar no ano de \" + str(ano_aposentadoria))\n"
   ]
  },
  {
   "cell_type": "code",
   "execution_count": 15,
   "metadata": {},
   "outputs": [
    {
     "name": "stdout",
     "output_type": "stream",
     "text": [
      "Digite o valor da sua hora de trabalho:\n",
      "Digite a quantidade de horas trabalhadas por mês:\n",
      "Salário Bruto: 240.0\n",
      "Desconto do Imposto de Renda: 0\n",
      "Desconto do Sindicato: 7.199999999999999\n",
      "FGTS: 26.4\n",
      "Salário Líquido: 232.8\n"
     ]
    }
   ],
   "source": [
    "#14)faça um programa em python para o cálculo de uma folha de pagamento sabendo que os descontos são dos imposto de renda,\n",
    "#que depende do salário bruto (conforme a tabela abaixo: DESCONTO DO IR:\n",
    "#Salário bruto até R$ 2.112,00(inclusive -isento; De 2.112,01 até 2.826,65(inclusive) - desconto de 7.5%; \n",
    "                              # De 2.826,66 até 3.752,05(inclusive)- desconto de 15%;\n",
    "                              #   De 3.751,06 até 4.664,68(inclusive)- Desconto de 22.5%; \n",
    "                               #  Acima de 4.664,68 - desconto de 27.5%), \n",
    "                               #  3% para o sindicato e que o FGTS corresponde a 11% do salário bruto, \n",
    "                               #  mas não é descontado ( é a empresa que deposita). \n",
    "                               #  o salário líquido corresponde ao salário bruto menos os descontos.\n",
    "#o programa deverá pedir ao usuário o valor da sua hora e a quantidade de horas trabalhada por mês\n",
    "\n",
    "\n",
    "# Solicitando o valor da hora e a quantidade de horas trabalhadas por mês\n",
    "print(\"Digite o valor da sua hora de trabalho:\")\n",
    "valor_hora = float(input())\n",
    "\n",
    "print(\"Digite a quantidade de horas trabalhadas por mês:\")\n",
    "horas_trabalhadas = float(input())\n",
    "\n",
    "# Calculando o salário bruto\n",
    "salario_bruto = valor_hora * horas_trabalhadas\n",
    "\n",
    "# Calculando o desconto do imposto de renda\n",
    "if salario_bruto <= 2112.00:\n",
    "    desconto_ir = 0\n",
    "elif salario_bruto <= 2826.65:\n",
    "    desconto_ir = salario_bruto * 0.075\n",
    "elif salario_bruto <= 3752.05:\n",
    "    desconto_ir = salario_bruto * 0.15\n",
    "elif salario_bruto <= 4664.68:\n",
    "    desconto_ir = salario_bruto * 0.225\n",
    "else:\n",
    "    desconto_ir = salario_bruto * 0.275\n",
    "\n",
    "# Calculando o desconto do sindicato\n",
    "desconto_sindicato = salario_bruto * 0.03\n",
    "\n",
    "# Calculando o valor do FGTS\n",
    "fgts = salario_bruto * 0.11\n",
    "\n",
    "# Calculando o salário líquido\n",
    "salario_liquido = salario_bruto - desconto_ir - desconto_sindicato\n",
    "\n",
    "# Imprimindo os resultados\n",
    "print(\"Salário Bruto:\", salario_bruto)\n",
    "print(\"Desconto do Imposto de Renda:\", desconto_ir)\n",
    "print(\"Desconto do Sindicato:\", desconto_sindicato)\n",
    "print(\"FGTS:\", fgts)\n",
    "print(\"Salário Líquido:\", salario_liquido)\n"
   ]
  },
  {
   "cell_type": "markdown",
   "metadata": {},
   "source": [
    "Aluna: MORGANA SOUZA FRANCISCO DE ASSIS\n",
    "TURMA: TADS036\n",
    "Atividade: PRÁTICA CUMULATIVA"
   ]
  }
 ],
 "metadata": {
  "kernelspec": {
   "display_name": "Python 3",
   "language": "python",
   "name": "python3"
  },
  "language_info": {
   "codemirror_mode": {
    "name": "ipython",
    "version": 3
   },
   "file_extension": ".py",
   "mimetype": "text/x-python",
   "name": "python",
   "nbconvert_exporter": "python",
   "pygments_lexer": "ipython3",
   "version": "3.12.3"
  }
 },
 "nbformat": 4,
 "nbformat_minor": 2
}
